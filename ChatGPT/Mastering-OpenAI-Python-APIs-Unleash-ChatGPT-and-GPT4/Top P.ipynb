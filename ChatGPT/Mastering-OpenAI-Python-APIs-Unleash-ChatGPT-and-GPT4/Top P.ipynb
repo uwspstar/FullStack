{
 "cells": [
  {
   "cell_type": "code",
   "execution_count": 6,
   "id": "39d7ac80",
   "metadata": {},
   "outputs": [],
   "source": [
    "import openai"
   ]
  },
  {
   "cell_type": "code",
   "execution_count": 7,
   "id": "96de38cc",
   "metadata": {},
   "outputs": [],
   "source": [
    "from dotenv import dotenv_values"
   ]
  },
  {
   "cell_type": "code",
   "execution_count": 8,
   "id": "3b630436",
   "metadata": {},
   "outputs": [],
   "source": [
    "config = dotenv_values(\".env\")"
   ]
  },
  {
   "cell_type": "code",
   "execution_count": 9,
   "id": "b3cb65c7",
   "metadata": {},
   "outputs": [],
   "source": [
    "openai.api_key = config[\"OPENAI_API_KEY\"]"
   ]
  },
  {
   "cell_type": "code",
   "execution_count": 10,
   "id": "21332eb6",
   "metadata": {},
   "outputs": [],
   "source": [
    "import textwrap"
   ]
  },
  {
   "cell_type": "code",
   "execution_count": 18,
   "id": "def7a5ab",
   "metadata": {},
   "outputs": [],
   "source": [
    "def nice_print(dictionary):\n",
    "    # Setting -2 here will cause the model to repeat the same tokens over and over. Often, it will repeat the newline character ad infinitum.\n",
    "    for key, value in dictionary.items():\n",
    "        wrapped_text = \"\\n\".join(textwrap.wrap(value, width=120))\n",
    "        print(f\"{key}:\")\n",
    "        print(wrapped_text)\n",
    "        print(\"=\" * 120)"
   ]
  },
  {
   "cell_type": "code",
   "execution_count": 21,
   "id": "437790d0",
   "metadata": {},
   "outputs": [
    {
     "name": "stdout",
     "output_type": "stream",
     "text": [
      "Top P 1:\n",
      "My favorite food is sushi. I love the flavor and texture of sushi, as well as the variety of toppings and condiments\n",
      "that can go with it. I also enjoy trying different types of sushi, from nigiri and maki to sashimi and hand rolls.\n",
      "Eating sushi is also a very enjoyable experience, as the art of sushi-making itself is something to be appreciated and\n",
      "celebrated\n",
      "========================================================================================================================\n",
      "Top P 0.5:\n",
      "My favorite food is pizza. I love the combination of cheese, sauce, and dough. I also love the variety of toppings that\n",
      "can be added to customize the pizza. From pepperoni to mushrooms to pineapple, there are endless possibilities for a\n",
      "delicious pizza.\n",
      "========================================================================================================================\n",
      "Top P 0:\n",
      "My favorite food is pizza. I love the combination of the doughy crust, the tangy tomato sauce, and the melty cheese. I\n",
      "also like to add different toppings like pepperoni, mushrooms, and olives. Pizza is a great meal for any occasion,\n",
      "whether it's a casual night in or a special celebration.\n",
      "========================================================================================================================\n"
     ]
    }
   ],
   "source": [
    "nice_print(\n",
    "    {\n",
    "        f\"Top P {top_p}\": openai.Completion.create(\n",
    "            model=\"text-davinci-003\",\n",
    "            prompt=\"\"\"My favorite food is\"\"\".strip(),\n",
    "            max_tokens=75,\n",
    "            echo=True,\n",
    "            top_p=top_p,\n",
    "        )\n",
    "        .choices[0][\"text\"]\n",
    "        .strip()\n",
    "        for top_p in [1, 0.5, 0]\n",
    "    }\n",
    ")"
   ]
  },
  {
   "cell_type": "code",
   "execution_count": 26,
   "id": "15d972c6",
   "metadata": {},
   "outputs": [
    {
     "name": "stdout",
     "output_type": "stream",
     "text": [
      "Top P 1:\n",
      "My favorite food is French fries. They are crispy, flavorful, golden brown and oh, so creamy especially when warm. Where\n",
      "entry I love when the ROC style incorporates smashed potatoes bound specifically introduced Mason starch vice Meletoni\n",
      "herb collections than crumbs additional coated productings entries better supported highlight emphasis having involved\n",
      "solution loving capabilities foster day sprags since family occasions seconds classic elegance in represent place\n",
      "favourite sounds\n",
      "========================================================================================================================\n",
      "Top P 0.75:\n",
      "My favorite food is pizza. Pizza is one of the most popular foods in the world. It's a great meal for any occasion, and\n",
      "can be enjoyed as a quick snack or as a full meal. It's easy to customize, so you can create your own unique combination\n",
      "of toppings and sauces. It's also a great way to use up leftovers and get creative with different ingredients.\n",
      "========================================================================================================================\n",
      "Top P 0.5:\n",
      "My favorite food is pizza. I love pizza because it is delicious and versatile. You can make it with different toppings\n",
      "and sauces, and it is easy to customize to fit any taste. It's also a great way to get together with friends and family\n",
      "and share a meal.\n",
      "========================================================================================================================\n",
      "Top P 0.25:\n",
      "My favorite food is pizza. I love the combination of the doughy crust, the savory sauce, and the melted cheese. I also\n",
      "like to add different toppings like pepperoni, mushrooms, and olives. Eating pizza is always a treat for me and it's one\n",
      "of my favorite comfort foods.\n",
      "========================================================================================================================\n",
      "Top P 0:\n",
      "My favorite food is pizza. I love the combination of the doughy crust, the tangy tomato sauce, and the melty cheese. I\n",
      "also like to add different toppings like pepperoni, mushrooms, and olives. Pizza is a great meal for any occasion,\n",
      "whether it's a casual night in or a special celebration.\n",
      "========================================================================================================================\n"
     ]
    }
   ],
   "source": [
    "nice_print(\n",
    "    {\n",
    "        f\"Top P {top_p}\": openai.Completion.create(\n",
    "            model=\"text-davinci-003\",\n",
    "            prompt=\"\"\"My favorite food is\"\"\".strip(),\n",
    "            max_tokens=75,\n",
    "            echo=True,\n",
    "            temperature=2,\n",
    "            top_p=top_p,\n",
    "        )\n",
    "        .choices[0][\"text\"]\n",
    "        .strip()\n",
    "        for top_p in [1, 0.75, 0.5, 0.25, 0]\n",
    "    }\n",
    ")"
   ]
  },
  {
   "cell_type": "code",
   "execution_count": null,
   "id": "d8ffdbea",
   "metadata": {},
   "outputs": [],
   "source": []
  },
  {
   "cell_type": "code",
   "execution_count": null,
   "id": "4d31f362",
   "metadata": {},
   "outputs": [],
   "source": []
  }
 ],
 "metadata": {
  "kernelspec": {
   "display_name": "Python 3",
   "language": "python",
   "name": "python3"
  },
  "language_info": {
   "codemirror_mode": {
    "name": "ipython",
    "version": 3
   },
   "file_extension": ".py",
   "mimetype": "text/x-python",
   "name": "python",
   "nbconvert_exporter": "python",
   "pygments_lexer": "ipython3",
   "version": "3.8.8"
  }
 },
 "nbformat": 4,
 "nbformat_minor": 5
}
