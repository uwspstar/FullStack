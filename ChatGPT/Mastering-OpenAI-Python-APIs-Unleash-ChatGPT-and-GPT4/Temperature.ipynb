{
 "cells": [
  {
   "cell_type": "code",
   "execution_count": 1,
   "id": "39d7ac80",
   "metadata": {},
   "outputs": [],
   "source": [
    "import openai"
   ]
  },
  {
   "cell_type": "code",
   "execution_count": 2,
   "id": "96de38cc",
   "metadata": {},
   "outputs": [],
   "source": [
    "from dotenv import dotenv_values"
   ]
  },
  {
   "cell_type": "code",
   "execution_count": 3,
   "id": "3b630436",
   "metadata": {},
   "outputs": [],
   "source": [
    "config = dotenv_values(\".env\")"
   ]
  },
  {
   "cell_type": "code",
   "execution_count": 4,
   "id": "b3cb65c7",
   "metadata": {},
   "outputs": [],
   "source": [
    "openai.api_key = config[\"OPENAI_API_KEY\"]"
   ]
  },
  {
   "cell_type": "code",
   "execution_count": 7,
   "id": "bb64e146",
   "metadata": {},
   "outputs": [
    {
     "data": {
      "text/plain": [
       "<OpenAIObject text_completion id=cmpl-6wzcxgEhCPiczLCyMuJTSfGyRbYfY at 0x7f9828212130> JSON: {\n",
       "  \"choices\": [\n",
       "    {\n",
       "      \"finish_reason\": \"length\",\n",
       "      \"index\": 0,\n",
       "      \"logprobs\": null,\n",
       "      \"text\": \"\\n\\nOnce upon a time, there was a young girl named Sarah who lived in a small village. She was a kind and gentle soul, and she was loved by all who knew her.\\n\\nOne day, Sarah decided to take a walk in the nearby forest. As she walked, she noticed a small, white rabbit hopping along the path. She followed the rabbit, and soon found herself in a magical clearing.\\n\\nIn the center of the clearing was a large, old tree.\"\n",
       "    }\n",
       "  ],\n",
       "  \"created\": 1679517939,\n",
       "  \"id\": \"cmpl-6wzcxgEhCPiczLCyMuJTSfGyRbYfY\",\n",
       "  \"model\": \"text-davinci-003\",\n",
       "  \"object\": \"text_completion\",\n",
       "  \"usage\": {\n",
       "    \"completion_tokens\": 100,\n",
       "    \"prompt_tokens\": 4,\n",
       "    \"total_tokens\": 104\n",
       "  }\n",
       "}"
      ]
     },
     "execution_count": 7,
     "metadata": {},
     "output_type": "execute_result"
    }
   ],
   "source": [
    "openai.Completion.create(\n",
    "    model='text-davinci-003',\n",
    "    prompt='tell me a story',\n",
    "    max_tokens=100,\n",
    "    temperature=0\n",
    ")"
   ]
  },
  {
   "cell_type": "code",
   "execution_count": 17,
   "id": "fb1721fa",
   "metadata": {},
   "outputs": [
    {
     "data": {
      "text/plain": [
       "<OpenAIObject text_completion id=cmpl-6wzfB0q5spjwfz1gxv6aG7dyTTpmy at 0x7f98084819a0> JSON: {\n",
       "  \"choices\": [\n",
       "    {\n",
       "      \"finish_reason\": \"stop\",\n",
       "      \"index\": 0,\n",
       "      \"logprobs\": null,\n",
       "      \"text\": \"\\ntiger. Tigers are powerful and majestic looking, with their characteristic orange-and-black stripes, and are a popular symbol of strength and beauty. They are also extremely curious animals, which often leads to them seeking out humans due to their inquisitiveness. I think they are an incredibly noble animal.\"\n",
       "    }\n",
       "  ],\n",
       "  \"created\": 1679518077,\n",
       "  \"id\": \"cmpl-6wzfB0q5spjwfz1gxv6aG7dyTTpmy\",\n",
       "  \"model\": \"text-davinci-003\",\n",
       "  \"object\": \"text_completion\",\n",
       "  \"usage\": {\n",
       "    \"completion_tokens\": 62,\n",
       "    \"prompt_tokens\": 6,\n",
       "    \"total_tokens\": 68\n",
       "  }\n",
       "}"
      ]
     },
     "execution_count": 17,
     "metadata": {},
     "output_type": "execute_result"
    }
   ],
   "source": [
    "openai.Completion.create(\n",
    "    model='text-davinci-003',\n",
    "    prompt='My favorite animal is a ',\n",
    "    max_tokens=100,\n",
    "    temperature=1.3\n",
    ")"
   ]
  },
  {
   "cell_type": "code",
   "execution_count": 18,
   "id": "21332eb6",
   "metadata": {},
   "outputs": [],
   "source": [
    "import textwrap"
   ]
  },
  {
   "cell_type": "code",
   "execution_count": 19,
   "id": "def7a5ab",
   "metadata": {},
   "outputs": [],
   "source": [
    "def nice_print(dictionary):\n",
    "    # Setting -2 here will cause the model to repeat the same tokens over and over. Often, it will repeat the newline character ad infinitum.\n",
    "    for key, value in dictionary.items():\n",
    "        wrapped_text = \"\\n\".join(textwrap.wrap(value, width=120))\n",
    "        print(f\"{key}:\")\n",
    "        print(wrapped_text)\n",
    "        print(\"=\" * 120)"
   ]
  },
  {
   "cell_type": "code",
   "execution_count": 21,
   "id": "5785b8c4",
   "metadata": {},
   "outputs": [
    {
     "name": "stdout",
     "output_type": "stream",
     "text": [
      "Temperature 0:\n",
      "My favorite food is pizza. I love the combination of the doughy crust, the tangy tomato sauce, and the melty cheese. I\n",
      "also like to add different toppings like pepperoni, mushrooms, and olives. Pizza is a great meal for any occasion,\n",
      "whether it's a casual night in or a special celebration.\n",
      "========================================================================================================================\n",
      "Temperature 0.5:\n",
      "My favorite food is pizza. I love the combination of cheese, sauce, and dough that make a delicious pizza. I also love\n",
      "to add different toppings like pepperoni, sausage, mushrooms, and onions to customize my pizza. I also like to try\n",
      "different kinds of pizza, like deep dish, thin crust, and stuffed crust. Pizza is a great meal that is easy to make, and\n",
      "========================================================================================================================\n",
      "Temperature 1:\n",
      "My favorite food is pizza. I love the combination of cheese, sauce, and dough. It is something I could eat every day.\n",
      "There are endless topping combinations to experiment with, making it a versatile dish. It is also very easy to make at\n",
      "home.\n",
      "========================================================================================================================\n",
      "Temperature 1.5:\n",
      "My favorite food is Burgers. I love making them at home on a homemade bun with some fresh tomatoes, lettuce onions and\n",
      "pickles and plenty of melted cheddar cheese and creamy avocado. Whenever possible I find myself sneaking in a petite\n",
      "onion to overpower special aspects that store brought manufacturers ofmass produced burgers cannot show  Apart from\n",
      "burgers I also love making chowe monds with assorted beans\n",
      "========================================================================================================================\n",
      "Temperature 2:\n",
      "My favorite food is steamed king crab, with partons newbered comrie linenasseter basieu cookies sprinkled over it.\n",
      "Serveed liddled thybes tourmangan mineader hatuaooterted witster mul of carved derbis lemund butter showerdone catane\n",
      "helliveo.   The sight and aroma of those flavoursight will make both adults and coastal gourdm\n",
      "========================================================================================================================\n"
     ]
    }
   ],
   "source": [
    "nice_print(\n",
    "    {\n",
    "        f\"Temperature {temperature}\": openai.Completion.create(model=\"text-davinci-003\", prompt=\"\"\"My favorite food is\"\"\".strip(), max_tokens=75, echo=True, temperature=temperature)\n",
    "        .choices[0][\"text\"]\n",
    "        .strip()\n",
    "        for temperature in [0, 0.5, 1, 1.5, 2]\n",
    "    }\n",
    ")"
   ]
  },
  {
   "cell_type": "code",
   "execution_count": null,
   "id": "ca995171",
   "metadata": {},
   "outputs": [],
   "source": []
  }
 ],
 "metadata": {
  "kernelspec": {
   "display_name": "Python 3",
   "language": "python",
   "name": "python3"
  },
  "language_info": {
   "codemirror_mode": {
    "name": "ipython",
    "version": 3
   },
   "file_extension": ".py",
   "mimetype": "text/x-python",
   "name": "python",
   "nbconvert_exporter": "python",
   "pygments_lexer": "ipython3",
   "version": "3.8.8"
  }
 },
 "nbformat": 4,
 "nbformat_minor": 5
}
