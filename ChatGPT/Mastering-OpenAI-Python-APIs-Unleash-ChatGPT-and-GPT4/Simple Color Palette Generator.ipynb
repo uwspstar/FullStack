{
 "cells": [
  {
   "cell_type": "code",
   "execution_count": 14,
   "id": "39d7ac80",
   "metadata": {},
   "outputs": [],
   "source": [
    "import openai"
   ]
  },
  {
   "cell_type": "code",
   "execution_count": 15,
   "id": "dadde237",
   "metadata": {},
   "outputs": [],
   "source": [
    "import json"
   ]
  },
  {
   "cell_type": "code",
   "execution_count": 16,
   "id": "96de38cc",
   "metadata": {},
   "outputs": [],
   "source": [
    "from dotenv import dotenv_values"
   ]
  },
  {
   "cell_type": "code",
   "execution_count": 17,
   "id": "3b630436",
   "metadata": {},
   "outputs": [],
   "source": [
    "config = dotenv_values(\".env\")"
   ]
  },
  {
   "cell_type": "code",
   "execution_count": 18,
   "id": "b3cb65c7",
   "metadata": {},
   "outputs": [],
   "source": [
    "openai.api_key = config[\"OPENAI_API_KEY\"]"
   ]
  },
  {
   "cell_type": "code",
   "execution_count": 19,
   "id": "3d404f6b",
   "metadata": {},
   "outputs": [],
   "source": [
    "from IPython.display import Markdown, display\n",
    "\n",
    "def display_colors(colors):\n",
    "    display(Markdown(\" \".join(\n",
    "        f\"<span style='color: {color}'>{chr(9608) * 4}</span>\"\n",
    "        for color in colors\n",
    "    )))"
   ]
  },
  {
   "cell_type": "code",
   "execution_count": 20,
   "id": "f947187d",
   "metadata": {},
   "outputs": [],
   "source": [
    "def get_and_render_colors(msg):\n",
    "    prompt = f\"\"\"\n",
    "    You are a color palette generating assistant that responds to text prompts for color palettes\n",
    "    Your should generate color palettes that fit the theme, mood, or instructions in the prompt.\n",
    "    The palettes should be between 2 and 8 colors.\n",
    "\n",
    "    Q: Convert the following verbal description of a color palette into a list of colors: The Mediterranean Sea\n",
    "    A: [\"#006699\", \"#66CCCC\", \"#F0E68C\", \"#008000\", \"#F08080\"]\n",
    "\n",
    "    Q: Convert the following verbal description of a color palette into a list of colors: sage, nature, earth\n",
    "    A: [\"#EDF1D6\", \"#9DC08B\", \"#609966\", \"#40513B\"]\n",
    "\n",
    "\n",
    "    Desired Format: a JSON array of hexadecimal color codes\n",
    "\n",
    "    Q: Convert the following verbal description of a color palette into a list of colors: {msg} \n",
    "    A:\n",
    "    \"\"\"\n",
    "\n",
    "    response = openai.Completion.create(\n",
    "        prompt=prompt,\n",
    "        model=\"text-davinci-003\",\n",
    "        max_tokens=200,\n",
    "    )\n",
    "\n",
    "    colors = json.loads(response[\"choices\"][0][\"text\"])\n",
    "\n",
    "    print(response[\"choices\"][0][\"text\"])\n",
    "    \n",
    "    display_colors(colors)"
   ]
  },
  {
   "cell_type": "code",
   "execution_count": 21,
   "id": "56c0f584",
   "metadata": {},
   "outputs": [
    {
     "name": "stdout",
     "output_type": "stream",
     "text": [
      "\n",
      "    [\"#4285F4\", \"#0F9D58\", \"#DB4437\", \"#F4B400\"]\n"
     ]
    },
    {
     "data": {
      "text/markdown": [
       "<span style='color: #4285F4'>████</span> <span style='color: #0F9D58'>████</span> <span style='color: #DB4437'>████</span> <span style='color: #F4B400'>████</span>"
      ],
      "text/plain": [
       "<IPython.core.display.Markdown object>"
      ]
     },
     "metadata": {},
     "output_type": "display_data"
    }
   ],
   "source": [
    "get_and_render_colors(\"4 Google brand colors\")"
   ]
  },
  {
   "cell_type": "code",
   "execution_count": 22,
   "id": "d2d1acc6",
   "metadata": {},
   "outputs": [
    {
     "name": "stdout",
     "output_type": "stream",
     "text": [
      "\n",
      "    [\"#8C2318\", \"#445878\", \"#FFFDD0\", \"#FBEED3\", \"#D7CEC3\"]\n"
     ]
    },
    {
     "data": {
      "text/markdown": [
       "<span style='color: #8C2318'>████</span> <span style='color: #445878'>████</span> <span style='color: #FFFDD0'>████</span> <span style='color: #FBEED3'>████</span> <span style='color: #D7CEC3'>████</span>"
      ],
      "text/plain": [
       "<IPython.core.display.Markdown object>"
      ]
     },
     "metadata": {},
     "output_type": "display_data"
    }
   ],
   "source": [
    "get_and_render_colors(\"Thanksgiving color palette\")"
   ]
  },
  {
   "cell_type": "code",
   "execution_count": 23,
   "id": "dce16fce",
   "metadata": {},
   "outputs": [
    {
     "name": "stdout",
     "output_type": "stream",
     "text": [
      "\n",
      "    [\"#2C6F93\", \"#00BCD4\", \"#4CAF50\", \"#FFEB3B\"]\n"
     ]
    },
    {
     "data": {
      "text/markdown": [
       "<span style='color: #2C6F93'>████</span> <span style='color: #00BCD4'>████</span> <span style='color: #4CAF50'>████</span> <span style='color: #FFEB3B'>████</span>"
      ],
      "text/plain": [
       "<IPython.core.display.Markdown object>"
      ]
     },
     "metadata": {},
     "output_type": "display_data"
    }
   ],
   "source": [
    "get_and_render_colors(\"tool application color palette\")"
   ]
  },
  {
   "cell_type": "code",
   "execution_count": 25,
   "id": "7ae3992d",
   "metadata": {},
   "outputs": [
    {
     "name": "stdout",
     "output_type": "stream",
     "text": [
      "\n",
      "    [\"#4CAF50\", \"#CDDC39\", \"#2196F3\", \"#FF9800\"]\n"
     ]
    },
    {
     "data": {
      "text/markdown": [
       "<span style='color: #4CAF50'>████</span> <span style='color: #CDDC39'>████</span> <span style='color: #2196F3'>████</span> <span style='color: #FF9800'>████</span>"
      ],
      "text/plain": [
       "<IPython.core.display.Markdown object>"
      ]
     },
     "metadata": {},
     "output_type": "display_data"
    }
   ],
   "source": [
    "get_and_render_colors(\"4 angular material tool application color palette\")"
   ]
  }
 ],
 "metadata": {
  "kernelspec": {
   "display_name": "Python 3",
   "language": "python",
   "name": "python3"
  },
  "language_info": {
   "codemirror_mode": {
    "name": "ipython",
    "version": 3
   },
   "file_extension": ".py",
   "mimetype": "text/x-python",
   "name": "python",
   "nbconvert_exporter": "python",
   "pygments_lexer": "ipython3",
   "version": "3.11.3"
  }
 },
 "nbformat": 4,
 "nbformat_minor": 5
}
