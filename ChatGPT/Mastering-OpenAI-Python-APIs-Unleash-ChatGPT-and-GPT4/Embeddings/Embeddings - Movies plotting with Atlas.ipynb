{
 "cells": [
  {
   "cell_type": "code",
   "execution_count": 2,
   "id": "a94935a2",
   "metadata": {},
   "outputs": [],
   "source": [
    "import openai\n",
    "from dotenv import dotenv_values\n",
    "config = dotenv_values(\".env\")\n",
    "openai.api_key = config[\"OPENAI_API_KEY\"]"
   ]
  },
  {
   "cell_type": "code",
   "execution_count": 32,
   "id": "226b521a",
   "metadata": {},
   "outputs": [],
   "source": [
    "import pandas as pd\n",
    "import numpy as np\n",
    "from tenacity import retry, wait_random_exponential, stop_after_attempt\n",
    "import pickle\n",
    "import tiktoken"
   ]
  },
  {
   "cell_type": "markdown",
   "id": "9b39a325",
   "metadata": {},
   "source": [
    "## Load The Movie Data"
   ]
  },
  {
   "cell_type": "code",
   "execution_count": 4,
   "id": "b4b40e2f",
   "metadata": {},
   "outputs": [],
   "source": [
    "dataset_path = \"./movie_plots.csv\"\n",
    "df = pd.read_csv(dataset_path)"
   ]
  },
  {
   "cell_type": "code",
   "execution_count": 109,
   "id": "df17c152",
   "metadata": {},
   "outputs": [],
   "source": [
    "# Narrow our data set to 5000 recent American movies (to save money)\n",
    "movies = df[df[\"Origin/Ethnicity\"] == \"American\"].sort_values(\"Release Year\", ascending=False).head(5000)"
   ]
  },
  {
   "cell_type": "code",
   "execution_count": 40,
   "id": "b3c0ecd3",
   "metadata": {
    "scrolled": true
   },
   "outputs": [],
   "source": [
    "# Extract the movie plots into a list\n",
    "movie_plots = movies[\"Plot\"].values"
   ]
  },
  {
   "cell_type": "markdown",
   "id": "ef607f51",
   "metadata": {},
   "source": [
    "## Generating The Embeddings"
   ]
  },
  {
   "cell_type": "code",
   "execution_count": 19,
   "id": "a944f22f",
   "metadata": {},
   "outputs": [],
   "source": [
    "@retry(wait=wait_random_exponential(min=1, max=20), stop=stop_after_attempt(6))\n",
    "def get_embedding(text, model=\"text-embedding-ada-002\"):\n",
    "\n",
    "    # replace newlines, which can negatively affect performance.\n",
    "    text = text.replace(\"\\n\", \" \")\n",
    "\n",
    "    return openai.Embedding.create(input=text, model=model)[\"data\"][0][\"embedding\"]"
   ]
  },
  {
   "cell_type": "code",
   "execution_count": 41,
   "id": "577abaf2",
   "metadata": {},
   "outputs": [],
   "source": [
    "enc = tiktoken.encoding_for_model(\"text-embedding-ada-002\")"
   ]
  },
  {
   "cell_type": "code",
   "execution_count": 45,
   "id": "294c1eb6",
   "metadata": {},
   "outputs": [],
   "source": [
    "total_tokens = sum([len(enc.encode(plot)) for plot in movie_plots])"
   ]
  },
  {
   "cell_type": "code",
   "execution_count": 53,
   "id": "5b022db2",
   "metadata": {
    "scrolled": true
   },
   "outputs": [
    {
     "name": "stdout",
     "output_type": "stream",
     "text": [
      "Estimated cost $1.45\n"
     ]
    }
   ],
   "source": [
    "total_tokens\n",
    "cost = total_tokens * (.0004 / 1000)\n",
    "print(f\"Estimated cost ${cost:.2f}\")"
   ]
  },
  {
   "cell_type": "code",
   "execution_count": 57,
   "id": "9dc03323",
   "metadata": {},
   "outputs": [],
   "source": [
    "# establish a cache of embeddings to avoid recomputing\n",
    "# cache is a dict of tuples (text, model) -> embedding, saved as a pickle file\n",
    "\n",
    "# set path to embedding cache\n",
    "embedding_cache_path = \"movie_embeddings_cache2.pkl\"\n",
    "\n",
    "# load the cache if it exists, and save a copy to disk\n",
    "try:\n",
    "    embedding_cache = pd.read_pickle(embedding_cache_path)\n",
    "except FileNotFoundError:\n",
    "    embedding_cache = {}\n",
    "with open(embedding_cache_path, \"wb\") as embedding_cache_file:\n",
    "    pickle.dump(embedding_cache, embedding_cache_file)\n",
    "\n",
    "# define a function to retrieve embeddings from the cache if present, and otherwise request via the API\n",
    "def embedding_from_string(\n",
    "    string,\n",
    "    model=\"text-embedding-ada-002\",\n",
    "    embedding_cache=embedding_cache\n",
    "):\n",
    "    \"\"\"Return embedding of given string, using a cache to avoid recomputing.\"\"\"\n",
    "    if (string, model) not in embedding_cache.keys():\n",
    "        embedding_cache[(string, model)] = get_embedding(string, model)\n",
    "        print(f\"GOT EMBEDDING FROM OPENAI FOR {string[:20]}\")\n",
    "        with open(embedding_cache_path, \"wb\") as embedding_cache_file:\n",
    "            pickle.dump(embedding_cache, embedding_cache_file)\n",
    "    return embedding_cache[(string, model)]"
   ]
  },
  {
   "cell_type": "code",
   "execution_count": 110,
   "id": "c3c56b83",
   "metadata": {},
   "outputs": [],
   "source": [
    "# This line actaully generates the embeddings\n",
    "plot_embeddings = [embedding_from_string(plot, model=\"text-embedding-ada-002\") for plot in movie_plots]"
   ]
  },
  {
   "cell_type": "markdown",
   "id": "0664763b",
   "metadata": {},
   "source": [
    "## Plot The Embeddings Using Atlas"
   ]
  },
  {
   "cell_type": "code",
   "execution_count": 71,
   "id": "f8917200",
   "metadata": {},
   "outputs": [],
   "source": [
    "data = movies[[\"Title\", \"Genre\"]].to_dict(\"records\")"
   ]
  },
  {
   "cell_type": "code",
   "execution_count": 63,
   "id": "60e78e26",
   "metadata": {},
   "outputs": [],
   "source": [
    "from nomic import atlas"
   ]
  },
  {
   "cell_type": "code",
   "execution_count": 73,
   "id": "78fcfdb7",
   "metadata": {
    "scrolled": false
   },
   "outputs": [
    {
     "name": "stderr",
     "output_type": "stream",
     "text": [
      "\u001b[32m2023-04-13 20:37:15.632\u001b[0m | \u001b[1mINFO    \u001b[0m | \u001b[36mnomic.project\u001b[0m:\u001b[36m_create_project\u001b[0m:\u001b[36m965\u001b[0m - \u001b[1mCreating project `flippant-loft` in organization `coltsteele1`\u001b[0m\n",
      "\u001b[32m2023-04-13 20:37:16.774\u001b[0m | \u001b[1mINFO    \u001b[0m | \u001b[36mnomic.atlas\u001b[0m:\u001b[36mmap_embeddings\u001b[0m:\u001b[36m100\u001b[0m - \u001b[1mUploading embeddings to Atlas.\u001b[0m\n",
      "4it [00:09,  2.34s/it]                       \n",
      "\u001b[32m2023-04-13 20:37:26.243\u001b[0m | \u001b[1mINFO    \u001b[0m | \u001b[36mnomic.project\u001b[0m:\u001b[36m_add_data\u001b[0m:\u001b[36m1577\u001b[0m - \u001b[1mUpload succeeded.\u001b[0m\n",
      "\u001b[32m2023-04-13 20:37:26.243\u001b[0m | \u001b[1mINFO    \u001b[0m | \u001b[36mnomic.atlas\u001b[0m:\u001b[36mmap_embeddings\u001b[0m:\u001b[36m119\u001b[0m - \u001b[1mEmbedding upload succeeded.\u001b[0m\n",
      "\u001b[32m2023-04-13 20:37:27.083\u001b[0m | \u001b[1mINFO    \u001b[0m | \u001b[36mnomic.project\u001b[0m:\u001b[36mcreate_index\u001b[0m:\u001b[36m1282\u001b[0m - \u001b[1mCreated map `flippant-loft` in project `flippant-loft`: https://atlas.nomic.ai/map/5899fca0-27a9-40c7-9a65-0c962306e065/469708b0-74ef-4839-91bc-7186f85f13d7\u001b[0m\n",
      "\u001b[32m2023-04-13 20:37:27.083\u001b[0m | \u001b[1mINFO    \u001b[0m | \u001b[36mnomic.atlas\u001b[0m:\u001b[36mmap_embeddings\u001b[0m:\u001b[36m132\u001b[0m - \u001b[1mflippant-loft: https://atlas.nomic.ai/map/5899fca0-27a9-40c7-9a65-0c962306e065/469708b0-74ef-4839-91bc-7186f85f13d7\u001b[0m\n"
     ]
    }
   ],
   "source": [
    "project = atlas.map_embeddings(\n",
    "    embeddings=np.array(plot_embeddings),\n",
    "    data=data\n",
    ")"
   ]
  },
  {
   "cell_type": "markdown",
   "id": "53d758ad",
   "metadata": {},
   "source": [
    "## Reccommending Movies By Plot"
   ]
  },
  {
   "cell_type": "code",
   "execution_count": 83,
   "id": "88aa9c6b",
   "metadata": {},
   "outputs": [],
   "source": [
    "from openai.embeddings_utils import distances_from_embeddings, indices_of_nearest_neighbors_from_distances"
   ]
  },
  {
   "cell_type": "code",
   "execution_count": 112,
   "id": "3f692039",
   "metadata": {},
   "outputs": [],
   "source": [
    "def print_recommendations_from_strings(\n",
    "    strings,\n",
    "    index_of_source_string,\n",
    "    k_nearest_neighbors=3,\n",
    "    model=\"text-embedding-ada-002\"\n",
    "):\n",
    "    #Get all of the embeddings\n",
    "    embeddings = [embedding_from_string(string) for string in strings]\n",
    "    # get embedding for our specific query string\n",
    "    query_embedding = embeddings[index_of_source_string]\n",
    "    # get distances between our embedding and all other embeddings\n",
    "    distances = distances_from_embeddings(query_embedding, embeddings)\n",
    "    # get indices of the nearest neighbors\n",
    "    indices_of_nearest_neighbors = indices_of_nearest_neighbors_from_distances(distances)\n",
    "    \n",
    "    query_string = strings[index_of_source_string]\n",
    "    match_count = 0\n",
    "    for i in indices_of_nearest_neighbors:\n",
    "        if query_string == strings[i]:\n",
    "            continue\n",
    "        if match_count >= k_nearest_neighbors:\n",
    "            break\n",
    "        match_count += 1\n",
    "        print(f\"Found {match_count} closest match: \")\n",
    "        print(f\"Distance of: {distances[i]} \")\n",
    "        print(strings[i])"
   ]
  },
  {
   "cell_type": "code",
   "execution_count": 89,
   "id": "b0e16871",
   "metadata": {},
   "outputs": [
    {
     "name": "stdout",
     "output_type": "stream",
     "text": [
      "Found 1 closest match: \n",
      "Distance of: 0.08445958228190453 \n",
      "As a spacecraft departs a planet, a humanoid alien drinks an iridescent liquid and then dissolves. The remains of the alien cascade into a waterfall. The alien's DNA strands mix with the water.\r\n",
      "In 2089, archaeologists Elizabeth Shaw and Charlie Holloway discover a star map in Scotland that matches others from several unconnected ancient cultures. They interpret this as an invitation from humanity's forerunners, the \"Engineers\". Peter Weyland, the elderly CEO of Weyland Corporation, funds an expedition, aboard the scientific vessel Prometheus, to follow the map to the distant moon LV-223. The ship's crew travels in stasis while the android David monitors their voyage. Arriving in December 2093, mission-director Meredith Vickers informs them of their mission to find the Engineers and not to make contact without her permission.\r\n",
      "The Prometheus lands on the barren, mountainous surface near a large, artificial structure, which a team explores. Inside, they find stone cylinders, a monolithic statue of a humanoid head, and the decapitated corpse of a large alien, thought to be an Engineer; Shaw recovers its head. The crew finds other bodies, leading them to surmise the species is extinct. Crew members Millburn and Fifield grow uncomfortable with the discoveries and attempt to return to Prometheus, but become stranded in the structure when they get lost. The expedition is cut short when a storm forces the crew to return to the ship. David secretly takes a cylinder from the structure, while the remaining cylinders begin leaking a dark liquid. In the ship's lab, the Engineer's DNA is found to match that of humans. David investigates the cylinder and the liquid inside. He intentionally taints a drink with the liquid and gives it to the unsuspecting Holloway, who had stated he would do anything for answers. Shortly after, Shaw and Holloway have sex.\r\n",
      "Inside the structure, a snake-like creature kills Millburn and sprays a corrosive fluid that melts Fifield's helmet. Fifield falls face-first into a puddle of dark liquid. When the crew returns, they find Millburn's corpse. David separately discovers a control room containing a surviving Engineer in stasis, and a large 3D holographic star map highlighting Earth. Meanwhile, Holloway sickens rapidly. He is rushed back to Prometheus, but Vickers refuses to let him aboard, and at his urging, burns him to death with a flamethrower. Later, a medical scan reveals that Shaw, despite being sterile, is pregnant. Fearing the worst, she uses an automated surgery table to extract a squid-like creature from her abdomen. Shaw then discovers that Weyland has been in stasis aboard Prometheus. He explains that he wants to ask the Engineers to prevent his death from old age. As Weyland prepares to leave for the structure, Vickers addresses him as \"Father\".\r\n",
      "A monstrous, mutated Fifield returns to the Prometheus and kills several crew members before he is killed. The Prometheus' captain, Janek, speculates that the structure was an Engineer military base that lost control of a virulent biological weapon, the dark liquid. He also determines that the structure houses a spacecraft. Weyland and a team return to the structure, accompanied by Shaw. David wakes the Engineer from stasis and speaks to him in an attempt to explain what Weyland wants. The Engineer responds by decapitating David and killing Weyland and his team, before reactivating the spacecraft. Shaw flees and warns Janek that the Engineer is planning to release the liquid on Earth, convincing him to stop the spacecraft. Janek and the remaining crew sacrifice themselves by ramming the Prometheus into the alien craft, ejecting the lifeboat in the process, while Vickers flees in an escape pod. The Engineer's disabled spacecraft crashes onto the ground, killing Vickers. Shaw goes to the lifeboat and finds her alien offspring is alive and has grown to gigantic size. David's still-active head warns Shaw that the Engineer is pursuing her. The Engineer forces open the lifeboat's airlock and attacks Shaw, who releases her alien offspring onto the Engineer; it thrusts an ovipositor down the Engineer's throat, subduing him. Shaw recovers David's remains, and with his help, launches another Engineer spacecraft. She intends to reach the Engineers' homeworld in an attempt to understand why they wanted to destroy humanity.\r\n",
      "In the lifeboat, an alien creature bursts out of the Engineer's chest.\n",
      "Found 2 closest match: \n",
      "Distance of: 0.13632821786235982 \n",
      "In 2004, a satellite detects a mysterious heat bloom beneath Bouvetøya, an island about one thousand miles off the coast of Antarctica. Wealthy industrialist Charles Bishop Weyland (Lance Henriksen) discovers through thermal imaging that there is a pyramid buried 2000 feet beneath the ice. He attempts to claim it for his multinational communications company, Weyland Industries, a subsidiary of the Weyland Corporation, and assembles a team of experts to investigate. The team includes archaeologists, linguistic experts, drillers, mercenaries, and a guide named Alexa Woods (Sanaa Lathan).\r\n",
      "As a Predator ship reaches Earth's orbit, it fires a beam that creates a passage through the ice towards the source of the heat bloom. When the team arrives at the abandoned whaling station above the heat source, they find the passage and descend beneath the ice. They locate the mysterious pyramid and begin to explore it, finding evidence of a prehistoric civilization and what appears to be a sacrificial chamber filled with human skeletons with ruptured rib cages.\r\n",
      "Meanwhile, three Predators consisting of Scar, Celtic and Chopper arrive and kill all the humans on the surface. They make their way down to the pyramid and arrive just as the team unwittingly activates the structure. The Alien Queen awakes from cryogenic stasis and begins to produce eggs. When the eggs hatch, several facehuggers attach themselves to humans trapped in the sacrificial chamber. Chestbursters emerge from the humans and quickly grow into adult Aliens. Conflict erupts between the Predators, Aliens, and humans, resulting in several deaths. Celtic and Chopper are killed by an Alien, and Weyland buys Alexa and Italian archaeologist Sebastian De Rosa (Raoul Bova) enough time to escape from Scar, giving his life in the process. The two witness Scar kill a facehugger and an Alien with a shuriken before unmasking and marking himself with the blood of the facehugger. After Alexa and Sebastian leave, another facehugger attaches itself to Scar due to him not wearing his mask.\r\n",
      "Through translation of the pyramid's hieroglyphs, Alexa and Sebastian learn that the Predators have been visiting Earth for thousands of years. It was they who taught early human civilizations how to build pyramids, and were worshiped as gods. Every 100 years they visited Earth to take part in a rite of passage by which several humans sacrifice themselves as hosts for the Aliens, creating the \"ultimate prey\" for the Predators to hunt while being able to survive in the pyramid; if overwhelmed, the Predators would activate a self-destruct device to eliminate the Aliens and themselves. The two deduce that this is why the current Predators are at the pyramid, and that the heat bloom was to attract humans for the sole purpose of making new Aliens to hunt.\r\n",
      "Alexa and Sebastian decide that the Predators must be allowed to succeed in their hunt so that the Aliens do not escape to the surface. Sebastian is captured by an Alien, leaving only Alexa and Scar to fight the Aliens. Scar uses parts of a dead Alien to fashion weapons for Alexa and the two form an alliance. The Queen Alien, using her acid blood, is freed from her restraints and begins pursuing, along with the other Aliens, Alexa and Scar. Just as they are about to escape, they use a self-destruct device to destroy the pyramid and the remaining Aliens. Alexa and Scar reach the surface, however the Alien Queen has survived and continues chasing them. They defeat the Queen by attaching its chain to a water tower and pushing her over a cliff, dragging the Queen to the ocean floor. Scar, however, had been impaled by the Alien Queen's tail and succumbs to his wounds and dies.\r\n",
      "A Predator ship uncloaks and several Predators appear. They retrieve their fallen comrade and an elite Predator presents Alexa with one of their spear weapons as a gift. The other Predators recognize her for her skill as a warrior symbolized by the alien blood Scar burned on her cheek before he died. As the Predators retreat into space, a chestburster with a hybrid form of an Alien and a Predator erupts from Scar's chest.\n",
      "Found 3 closest match: \n",
      "Distance of: 0.1365166895341312 \n",
      "In the near future, the unmanned Pilgrim 7 space probe returns from Mars to Earth orbit with soil samples potentially containing evidence of extraterrestrial life. The probe is captured and its samples retrieved by the International Space Station and its six-member crew. Exobiologist Hugh Derry, who is paralyzed from the waist down, revives a dormant cell from the sample, which quickly grows into a multi-celled organism that American school children name \"Calvin\". Hugh realizes that Calvin's cells can change their specialisation, acting as muscle, sensor, and neuron cells all at once.\r\n",
      "An accident in the lab causes Calvin to become dormant; Hugh attempts to revive Calvin with electric shocks, but Calvin immediately becomes hostile and attacks Hugh, crushing his hand. While Hugh lies unconscious from Calvin's attack, Calvin uses Hugh's electric shock tool to escape its enclosure; now free in the laboratory, Calvin devours a lab rat by absorbing it, growing in size. Engineer Rory Adams enters the lab to rescue Hugh; he is locked in by fellow crew member and physician David Jordan, however, to keep Calvin contained. Calvin latches onto Rory's leg; after Rory unsuccessfully attacks Calvin with a portable rocket thruster, Calvin enters his mouth, devouring his organs from the inside and killing him. Emerging from Rory's mouth even larger, Calvin escapes through a fire-control vent.\r\n",
      "Finding their communication with Earth cut off due to overheating of the communication systems, ISS commander Ekaterina Golovkina performs a space walk to find and fix the problem. She discovers that Calvin has breached the ISS's cooling system; soon after, Calvin attacks her, rupturing her spacesuit's water coolant system in the process and causing the water in the system to fill her suit. She blindly makes her way back to the airlock; however, she and the crew realize that if she re-enters, Calvin will also be able to re-enter the ISS. Hence, she refuses to open the hatch and stops David from helping her do so; this keeps Calvin out of the station for the time being but also causes her to drown and die in her spacesuit.\r\n",
      "Calvin then attempts to re-enter the station through its maneuvering thrusters. The crew try to fire the thrusters to blast Calvin away from the spacecraft, but their attempts fail, using up too much fuel and causing the ISS to enter a decaying orbit where it will burn up in Earth's atmosphere. Pilot Sho Murakami informs the crew that they need to use the station's remaining fuel to get back into a safe orbit, although this allows Calvin to re-enter the station. The crew plan to make Calvin dormant by sealing themselves into one module and venting the atmosphere from the rest of the station.\r\n",
      "After the remaining crew finalize preparations to do so, Hugh enters cardiac arrest. The crew then discover that Calvin has been feeding off of Hugh's paralyzed leg. Calvin attacks the remainder of the crew; Sho seals himself in a sleeping pod. As Calvin attempts to break its glass, David and the quarantine officer Miranda North use Hugh's corpse as bait to lure Calvin away from Sho and trap it in another module to deprive it of oxygen. Having received a distress call prior to the damage to the ISS's communication system, Earth sends a Soyuz spacecraft to the station as a fail-safe plan to push the station into deep space. Believing the Soyuz to be on a rescue mission for the ISS crew, Sho leaves his pod and moves to board it, forcing open its hatch; Calvin then attacks him and the Soyuz crew, causing the craft's docking mechanism to fail and resulting in the capsule crashing into the ISS, killing Sho and the Soyuz crew and causing the ISS to once again enter a decaying orbit.\r\n",
      "The only two remaining survivors, David and Miranda, aware that Calvin could survive re-entry, plan for David to lure Calvin into one of the two remaining escape pods attached to the ISS for David to manually pilot the pod into deep space, isolating Calvin and allowing Miranda to return to Earth in the second pod. David manages to lure Calvin into his pod while Miranda enters her pod; as they simultaneously undock their pods from the ISS, one of the pods hits debris and is damaged, veering off course. In David's pod, Calvin attacks him as he struggles to manually pilot the pod; in Miranda's pod, she records a black box message in case of her death during re-entry informing the world of her colleagues' deaths and not to trust Calvin nor any extraterrestrial life from Mars as well as to destroy Calvin at any cost should he make his way to Earth.\r\n",
      "The two pods separate, one earthbound, the other spiraling away from Earth. The earthbound pod lands in the ocean; two nearby Vietnamese fishermen approach it. As they look into the pod, it is revealed to be David's, the astronaut now encased in a web-like substance. Meanwhile, Miranda's pod's navigation system fails due to damage sustained from the debris, sending her flying away from Earth out of control, much to her horror. On Earth, despite David attempting to warn the fishermen, the fishermen open the pod's hatch. Meanwhile, more boats arrive.\n"
     ]
    }
   ],
   "source": [
    "print_recommendations_from_strings(movie_plots, 2)"
   ]
  }
 ],
 "metadata": {
  "kernelspec": {
   "display_name": "Python 3",
   "language": "python",
   "name": "python3"
  },
  "language_info": {
   "codemirror_mode": {
    "name": "ipython",
    "version": 3
   },
   "file_extension": ".py",
   "mimetype": "text/x-python",
   "name": "python",
   "nbconvert_exporter": "python",
   "pygments_lexer": "ipython3",
   "version": "3.8.8"
  }
 },
 "nbformat": 4,
 "nbformat_minor": 5
}
